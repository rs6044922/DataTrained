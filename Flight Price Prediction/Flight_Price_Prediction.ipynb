{
  "nbformat": 4,
  "nbformat_minor": 0,
  "metadata": {
    "colab": {
      "name": "Flight Price Prediction.ipynb",
      "provenance": [],
      "collapsed_sections": []
    },
    "kernelspec": {
      "name": "python3",
      "display_name": "Python 3"
    },
    "language_info": {
      "name": "python"
    }
  },
  "cells": [
    {
      "cell_type": "markdown",
      "metadata": {
        "id": "SxnEUfvMqRms"
      },
      "source": [
        "# Flight Price Prediction\n",
        "\n",
        "## Data collection"
      ]
    },
    {
      "cell_type": "code",
      "metadata": {
        "id": "fNGEVxiE0d-L"
      },
      "source": [
        "#import basic library\n",
        "import pandas as pd\n",
        "import numpy as np\n",
        "import matplotlib.pyplot as plt\n",
        "import seaborn as sn\n",
        "\n",
        "import warnings\n",
        "warnings.filterwarnings('ignore')"
      ],
      "execution_count": 146,
      "outputs": []
    },
    {
      "cell_type": "code",
      "metadata": {
        "colab": {
          "base_uri": "https://localhost:8080/"
        },
        "id": "sfPTP3qY_h0t",
        "outputId": "ea804a8e-0d6e-4684-dee8-3f9b48d12afd"
      },
      "source": [
        "#importing the data set and printing the first 5 rows\n",
        "df=pd.read_excel('Data_Train.xlsx')\n",
        "dff=pd.read_excel('Test_set.xlsx')\n",
        "print(df.head())\n",
        "print(dff.head())"
      ],
      "execution_count": 147,
      "outputs": [
        {
          "output_type": "stream",
          "text": [
            "       Airline Date_of_Journey    Source  ... Total_Stops Additional_Info  Price\n",
            "0       IndiGo      24/03/2019  Banglore  ...    non-stop         No info   3897\n",
            "1    Air India       1/05/2019   Kolkata  ...     2 stops         No info   7662\n",
            "2  Jet Airways       9/06/2019     Delhi  ...     2 stops         No info  13882\n",
            "3       IndiGo      12/05/2019   Kolkata  ...      1 stop         No info   6218\n",
            "4       IndiGo      01/03/2019  Banglore  ...      1 stop         No info  13302\n",
            "\n",
            "[5 rows x 11 columns]\n",
            "             Airline Date_of_Journey  ... Total_Stops              Additional_Info\n",
            "0        Jet Airways       6/06/2019  ...      1 stop                      No info\n",
            "1             IndiGo      12/05/2019  ...      1 stop                      No info\n",
            "2        Jet Airways      21/05/2019  ...      1 stop  In-flight meal not included\n",
            "3  Multiple carriers      21/05/2019  ...      1 stop                      No info\n",
            "4           Air Asia      24/06/2019  ...    non-stop                      No info\n",
            "\n",
            "[5 rows x 10 columns]\n"
          ],
          "name": "stdout"
        }
      ]
    },
    {
      "cell_type": "markdown",
      "metadata": {
        "id": "9ca1esMBqrC7"
      },
      "source": [
        "I have taken train data as df and test data as dff "
      ]
    },
    {
      "cell_type": "code",
      "metadata": {
        "colab": {
          "base_uri": "https://localhost:8080/",
          "height": 204
        },
        "id": "-_Q9oMW_QtnZ",
        "outputId": "e6d437bf-8272-4c5f-8581-6d2b777986eb"
      },
      "source": [
        "#displaying the bottom 5 rows of the train data set\n",
        "df.tail()"
      ],
      "execution_count": 148,
      "outputs": [
        {
          "output_type": "execute_result",
          "data": {
            "text/html": [
              "<div>\n",
              "<style scoped>\n",
              "    .dataframe tbody tr th:only-of-type {\n",
              "        vertical-align: middle;\n",
              "    }\n",
              "\n",
              "    .dataframe tbody tr th {\n",
              "        vertical-align: top;\n",
              "    }\n",
              "\n",
              "    .dataframe thead th {\n",
              "        text-align: right;\n",
              "    }\n",
              "</style>\n",
              "<table border=\"1\" class=\"dataframe\">\n",
              "  <thead>\n",
              "    <tr style=\"text-align: right;\">\n",
              "      <th></th>\n",
              "      <th>Airline</th>\n",
              "      <th>Date_of_Journey</th>\n",
              "      <th>Source</th>\n",
              "      <th>Destination</th>\n",
              "      <th>Route</th>\n",
              "      <th>Dep_Time</th>\n",
              "      <th>Arrival_Time</th>\n",
              "      <th>Duration</th>\n",
              "      <th>Total_Stops</th>\n",
              "      <th>Additional_Info</th>\n",
              "      <th>Price</th>\n",
              "    </tr>\n",
              "  </thead>\n",
              "  <tbody>\n",
              "    <tr>\n",
              "      <th>10678</th>\n",
              "      <td>Air Asia</td>\n",
              "      <td>9/04/2019</td>\n",
              "      <td>Kolkata</td>\n",
              "      <td>Banglore</td>\n",
              "      <td>CCU → BLR</td>\n",
              "      <td>19:55</td>\n",
              "      <td>22:25</td>\n",
              "      <td>2h 30m</td>\n",
              "      <td>non-stop</td>\n",
              "      <td>No info</td>\n",
              "      <td>4107</td>\n",
              "    </tr>\n",
              "    <tr>\n",
              "      <th>10679</th>\n",
              "      <td>Air India</td>\n",
              "      <td>27/04/2019</td>\n",
              "      <td>Kolkata</td>\n",
              "      <td>Banglore</td>\n",
              "      <td>CCU → BLR</td>\n",
              "      <td>20:45</td>\n",
              "      <td>23:20</td>\n",
              "      <td>2h 35m</td>\n",
              "      <td>non-stop</td>\n",
              "      <td>No info</td>\n",
              "      <td>4145</td>\n",
              "    </tr>\n",
              "    <tr>\n",
              "      <th>10680</th>\n",
              "      <td>Jet Airways</td>\n",
              "      <td>27/04/2019</td>\n",
              "      <td>Banglore</td>\n",
              "      <td>Delhi</td>\n",
              "      <td>BLR → DEL</td>\n",
              "      <td>08:20</td>\n",
              "      <td>11:20</td>\n",
              "      <td>3h</td>\n",
              "      <td>non-stop</td>\n",
              "      <td>No info</td>\n",
              "      <td>7229</td>\n",
              "    </tr>\n",
              "    <tr>\n",
              "      <th>10681</th>\n",
              "      <td>Vistara</td>\n",
              "      <td>01/03/2019</td>\n",
              "      <td>Banglore</td>\n",
              "      <td>New Delhi</td>\n",
              "      <td>BLR → DEL</td>\n",
              "      <td>11:30</td>\n",
              "      <td>14:10</td>\n",
              "      <td>2h 40m</td>\n",
              "      <td>non-stop</td>\n",
              "      <td>No info</td>\n",
              "      <td>12648</td>\n",
              "    </tr>\n",
              "    <tr>\n",
              "      <th>10682</th>\n",
              "      <td>Air India</td>\n",
              "      <td>9/05/2019</td>\n",
              "      <td>Delhi</td>\n",
              "      <td>Cochin</td>\n",
              "      <td>DEL → GOI → BOM → COK</td>\n",
              "      <td>10:55</td>\n",
              "      <td>19:15</td>\n",
              "      <td>8h 20m</td>\n",
              "      <td>2 stops</td>\n",
              "      <td>No info</td>\n",
              "      <td>11753</td>\n",
              "    </tr>\n",
              "  </tbody>\n",
              "</table>\n",
              "</div>"
            ],
            "text/plain": [
              "           Airline Date_of_Journey    Source  ... Total_Stops Additional_Info  Price\n",
              "10678     Air Asia       9/04/2019   Kolkata  ...    non-stop         No info   4107\n",
              "10679    Air India      27/04/2019   Kolkata  ...    non-stop         No info   4145\n",
              "10680  Jet Airways      27/04/2019  Banglore  ...    non-stop         No info   7229\n",
              "10681      Vistara      01/03/2019  Banglore  ...    non-stop         No info  12648\n",
              "10682    Air India       9/05/2019     Delhi  ...     2 stops         No info  11753\n",
              "\n",
              "[5 rows x 11 columns]"
            ]
          },
          "metadata": {
            "tags": []
          },
          "execution_count": 148
        }
      ]
    },
    {
      "cell_type": "code",
      "metadata": {
        "colab": {
          "base_uri": "https://localhost:8080/",
          "height": 204
        },
        "id": "ils_NEMKQtq7",
        "outputId": "b9519728-6985-49ee-a749-1ee35471e37a"
      },
      "source": [
        "#displaying the bottom 5 rows of the test data set\n",
        "dff.tail()"
      ],
      "execution_count": 149,
      "outputs": [
        {
          "output_type": "execute_result",
          "data": {
            "text/html": [
              "<div>\n",
              "<style scoped>\n",
              "    .dataframe tbody tr th:only-of-type {\n",
              "        vertical-align: middle;\n",
              "    }\n",
              "\n",
              "    .dataframe tbody tr th {\n",
              "        vertical-align: top;\n",
              "    }\n",
              "\n",
              "    .dataframe thead th {\n",
              "        text-align: right;\n",
              "    }\n",
              "</style>\n",
              "<table border=\"1\" class=\"dataframe\">\n",
              "  <thead>\n",
              "    <tr style=\"text-align: right;\">\n",
              "      <th></th>\n",
              "      <th>Airline</th>\n",
              "      <th>Date_of_Journey</th>\n",
              "      <th>Source</th>\n",
              "      <th>Destination</th>\n",
              "      <th>Route</th>\n",
              "      <th>Dep_Time</th>\n",
              "      <th>Arrival_Time</th>\n",
              "      <th>Duration</th>\n",
              "      <th>Total_Stops</th>\n",
              "      <th>Additional_Info</th>\n",
              "    </tr>\n",
              "  </thead>\n",
              "  <tbody>\n",
              "    <tr>\n",
              "      <th>2666</th>\n",
              "      <td>Air India</td>\n",
              "      <td>6/06/2019</td>\n",
              "      <td>Kolkata</td>\n",
              "      <td>Banglore</td>\n",
              "      <td>CCU → DEL → BLR</td>\n",
              "      <td>20:30</td>\n",
              "      <td>20:25 07 Jun</td>\n",
              "      <td>23h 55m</td>\n",
              "      <td>1 stop</td>\n",
              "      <td>No info</td>\n",
              "    </tr>\n",
              "    <tr>\n",
              "      <th>2667</th>\n",
              "      <td>IndiGo</td>\n",
              "      <td>27/03/2019</td>\n",
              "      <td>Kolkata</td>\n",
              "      <td>Banglore</td>\n",
              "      <td>CCU → BLR</td>\n",
              "      <td>14:20</td>\n",
              "      <td>16:55</td>\n",
              "      <td>2h 35m</td>\n",
              "      <td>non-stop</td>\n",
              "      <td>No info</td>\n",
              "    </tr>\n",
              "    <tr>\n",
              "      <th>2668</th>\n",
              "      <td>Jet Airways</td>\n",
              "      <td>6/03/2019</td>\n",
              "      <td>Delhi</td>\n",
              "      <td>Cochin</td>\n",
              "      <td>DEL → BOM → COK</td>\n",
              "      <td>21:50</td>\n",
              "      <td>04:25 07 Mar</td>\n",
              "      <td>6h 35m</td>\n",
              "      <td>1 stop</td>\n",
              "      <td>No info</td>\n",
              "    </tr>\n",
              "    <tr>\n",
              "      <th>2669</th>\n",
              "      <td>Air India</td>\n",
              "      <td>6/03/2019</td>\n",
              "      <td>Delhi</td>\n",
              "      <td>Cochin</td>\n",
              "      <td>DEL → BOM → COK</td>\n",
              "      <td>04:00</td>\n",
              "      <td>19:15</td>\n",
              "      <td>15h 15m</td>\n",
              "      <td>1 stop</td>\n",
              "      <td>No info</td>\n",
              "    </tr>\n",
              "    <tr>\n",
              "      <th>2670</th>\n",
              "      <td>Multiple carriers</td>\n",
              "      <td>15/06/2019</td>\n",
              "      <td>Delhi</td>\n",
              "      <td>Cochin</td>\n",
              "      <td>DEL → BOM → COK</td>\n",
              "      <td>04:55</td>\n",
              "      <td>19:15</td>\n",
              "      <td>14h 20m</td>\n",
              "      <td>1 stop</td>\n",
              "      <td>No info</td>\n",
              "    </tr>\n",
              "  </tbody>\n",
              "</table>\n",
              "</div>"
            ],
            "text/plain": [
              "                Airline Date_of_Journey  ... Total_Stops Additional_Info\n",
              "2666          Air India       6/06/2019  ...      1 stop         No info\n",
              "2667             IndiGo      27/03/2019  ...    non-stop         No info\n",
              "2668        Jet Airways       6/03/2019  ...      1 stop         No info\n",
              "2669          Air India       6/03/2019  ...      1 stop         No info\n",
              "2670  Multiple carriers      15/06/2019  ...      1 stop         No info\n",
              "\n",
              "[5 rows x 10 columns]"
            ]
          },
          "metadata": {
            "tags": []
          },
          "execution_count": 149
        }
      ]
    },
    {
      "cell_type": "markdown",
      "metadata": {
        "id": "f_ZPMZJUrEFZ"
      },
      "source": [
        "We can see that the 'Price' is our dependent varialble and all other column are the independent variable "
      ]
    },
    {
      "cell_type": "code",
      "metadata": {
        "colab": {
          "base_uri": "https://localhost:8080/"
        },
        "id": "zb8S8lp2A_27",
        "outputId": "5a9f4997-a6ec-4672-81a1-5dd2acd23e38"
      },
      "source": [
        "#displaying the column name\n",
        "df.columns"
      ],
      "execution_count": 150,
      "outputs": [
        {
          "output_type": "execute_result",
          "data": {
            "text/plain": [
              "Index(['Airline', 'Date_of_Journey', 'Source', 'Destination', 'Route',\n",
              "       'Dep_Time', 'Arrival_Time', 'Duration', 'Total_Stops',\n",
              "       'Additional_Info', 'Price'],\n",
              "      dtype='object')"
            ]
          },
          "metadata": {
            "tags": []
          },
          "execution_count": 150
        }
      ]
    },
    {
      "cell_type": "code",
      "metadata": {
        "colab": {
          "base_uri": "https://localhost:8080/"
        },
        "id": "RwswfqU_Q5gw",
        "outputId": "5d953c96-3af0-420c-f149-65b76ac65cab"
      },
      "source": [
        "#displaying the column name\n",
        "dff.columns"
      ],
      "execution_count": 151,
      "outputs": [
        {
          "output_type": "execute_result",
          "data": {
            "text/plain": [
              "Index(['Airline', 'Date_of_Journey', 'Source', 'Destination', 'Route',\n",
              "       'Dep_Time', 'Arrival_Time', 'Duration', 'Total_Stops',\n",
              "       'Additional_Info'],\n",
              "      dtype='object')"
            ]
          },
          "metadata": {
            "tags": []
          },
          "execution_count": 151
        }
      ]
    },
    {
      "cell_type": "code",
      "metadata": {
        "colab": {
          "base_uri": "https://localhost:8080/"
        },
        "id": "ai33-dh5BRvl",
        "outputId": "d4e5beed-830f-4c72-a27a-456549701314"
      },
      "source": [
        "#displaying the number of columns and rows of our train and test data set \n",
        "print(df.shape)\n",
        "print(dff.shape)"
      ],
      "execution_count": 152,
      "outputs": [
        {
          "output_type": "stream",
          "text": [
            "(10683, 11)\n",
            "(2671, 10)\n"
          ],
          "name": "stdout"
        }
      ]
    },
    {
      "cell_type": "code",
      "metadata": {
        "colab": {
          "base_uri": "https://localhost:8080/"
        },
        "id": "Ht1tZ4KNBmdv",
        "outputId": "2471c52b-eb73-48fd-d5b0-8bb372c4189a"
      },
      "source": [
        "#checking the data type of all the variable \n",
        "d_type=df.dtypes\n",
        "d_type"
      ],
      "execution_count": 153,
      "outputs": [
        {
          "output_type": "execute_result",
          "data": {
            "text/plain": [
              "Airline            object\n",
              "Date_of_Journey    object\n",
              "Source             object\n",
              "Destination        object\n",
              "Route              object\n",
              "Dep_Time           object\n",
              "Arrival_Time       object\n",
              "Duration           object\n",
              "Total_Stops        object\n",
              "Additional_Info    object\n",
              "Price               int64\n",
              "dtype: object"
            ]
          },
          "metadata": {
            "tags": []
          },
          "execution_count": 153
        }
      ]
    },
    {
      "cell_type": "code",
      "metadata": {
        "colab": {
          "base_uri": "https://localhost:8080/"
        },
        "id": "oOnqGsBLBmmf",
        "outputId": "e71dcc99-6a77-4bbb-b970-49427f1b9c6f"
      },
      "source": [
        "#counting the frequency of each data type \n",
        "d_type.value_counts()"
      ],
      "execution_count": 154,
      "outputs": [
        {
          "output_type": "execute_result",
          "data": {
            "text/plain": [
              "object    10\n",
              "int64      1\n",
              "dtype: int64"
            ]
          },
          "metadata": {
            "tags": []
          },
          "execution_count": 154
        }
      ]
    },
    {
      "cell_type": "markdown",
      "metadata": {
        "id": "NgiySllEshHM"
      },
      "source": [
        "There are 10 variable with object type and 1 variable with integer type"
      ]
    },
    {
      "cell_type": "code",
      "metadata": {
        "colab": {
          "base_uri": "https://localhost:8080/"
        },
        "id": "OO8k8v4kDEED",
        "outputId": "4fce280b-c562-4834-bff1-9af278c952f4"
      },
      "source": [
        "#checking wheather null value is present or not\n",
        "df.isnull().sum()"
      ],
      "execution_count": 155,
      "outputs": [
        {
          "output_type": "execute_result",
          "data": {
            "text/plain": [
              "Airline            0\n",
              "Date_of_Journey    0\n",
              "Source             0\n",
              "Destination        0\n",
              "Route              1\n",
              "Dep_Time           0\n",
              "Arrival_Time       0\n",
              "Duration           0\n",
              "Total_Stops        1\n",
              "Additional_Info    0\n",
              "Price              0\n",
              "dtype: int64"
            ]
          },
          "metadata": {
            "tags": []
          },
          "execution_count": 155
        }
      ]
    },
    {
      "cell_type": "markdown",
      "metadata": {
        "id": "NZvMO9IRsW00"
      },
      "source": [
        "We can see that there are only 2 null value in our data set and we can easily handel it."
      ]
    },
    {
      "cell_type": "code",
      "metadata": {
        "colab": {
          "base_uri": "https://localhost:8080/"
        },
        "id": "B_Md1bm5RX55",
        "outputId": "85a26f8d-f45f-4f95-d45c-341447360150"
      },
      "source": [
        "#checking wheather null value is present or not in test data set\n",
        "dff.isnull().sum()"
      ],
      "execution_count": 156,
      "outputs": [
        {
          "output_type": "execute_result",
          "data": {
            "text/plain": [
              "Airline            0\n",
              "Date_of_Journey    0\n",
              "Source             0\n",
              "Destination        0\n",
              "Route              0\n",
              "Dep_Time           0\n",
              "Arrival_Time       0\n",
              "Duration           0\n",
              "Total_Stops        0\n",
              "Additional_Info    0\n",
              "dtype: int64"
            ]
          },
          "metadata": {
            "tags": []
          },
          "execution_count": 156
        }
      ]
    },
    {
      "cell_type": "code",
      "metadata": {
        "colab": {
          "base_uri": "https://localhost:8080/"
        },
        "id": "S0g52T43DEL7",
        "outputId": "6a3ad482-9ba7-4207-80a1-b6a4f868bf14"
      },
      "source": [
        "#displaying the information of each column\n",
        "df.info()"
      ],
      "execution_count": 157,
      "outputs": [
        {
          "output_type": "stream",
          "text": [
            "<class 'pandas.core.frame.DataFrame'>\n",
            "RangeIndex: 10683 entries, 0 to 10682\n",
            "Data columns (total 11 columns):\n",
            " #   Column           Non-Null Count  Dtype \n",
            "---  ------           --------------  ----- \n",
            " 0   Airline          10683 non-null  object\n",
            " 1   Date_of_Journey  10683 non-null  object\n",
            " 2   Source           10683 non-null  object\n",
            " 3   Destination      10683 non-null  object\n",
            " 4   Route            10682 non-null  object\n",
            " 5   Dep_Time         10683 non-null  object\n",
            " 6   Arrival_Time     10683 non-null  object\n",
            " 7   Duration         10683 non-null  object\n",
            " 8   Total_Stops      10682 non-null  object\n",
            " 9   Additional_Info  10683 non-null  object\n",
            " 10  Price            10683 non-null  int64 \n",
            "dtypes: int64(1), object(10)\n",
            "memory usage: 918.2+ KB\n"
          ],
          "name": "stdout"
        }
      ]
    },
    {
      "cell_type": "code",
      "metadata": {
        "colab": {
          "base_uri": "https://localhost:8080/"
        },
        "id": "WZR4w-RFDEPH",
        "outputId": "d4117293-e1db-4d84-cbc9-e29b17f50eeb"
      },
      "source": [
        "#printing the number of unique element and there count in the catagorical column\n",
        "for i in df.columns:\n",
        "  if df[i].dtype == 'object':\n",
        "    print(f\"----- columnns : {i} -----\")\n",
        "    print(f'Number of Unique element :  {df[i].nunique()}')\n",
        "    print(f'Count of each unique element :\\n{df[i].value_counts()}\\n\\n\\n')"
      ],
      "execution_count": 158,
      "outputs": [
        {
          "output_type": "stream",
          "text": [
            "----- columnns : Airline -----\n",
            "Number of Unique element :  12\n",
            "Count of each unique element :\n",
            "Jet Airways                          3849\n",
            "IndiGo                               2053\n",
            "Air India                            1752\n",
            "Multiple carriers                    1196\n",
            "SpiceJet                              818\n",
            "Vistara                               479\n",
            "Air Asia                              319\n",
            "GoAir                                 194\n",
            "Multiple carriers Premium economy      13\n",
            "Jet Airways Business                    6\n",
            "Vistara Premium economy                 3\n",
            "Trujet                                  1\n",
            "Name: Airline, dtype: int64\n",
            "\n",
            "\n",
            "\n",
            "----- columnns : Date_of_Journey -----\n",
            "Number of Unique element :  44\n",
            "Count of each unique element :\n",
            "18/05/2019    504\n",
            "6/06/2019     503\n",
            "21/05/2019    497\n",
            "9/06/2019     495\n",
            "12/06/2019    493\n",
            "9/05/2019     484\n",
            "21/03/2019    423\n",
            "15/05/2019    405\n",
            "27/05/2019    382\n",
            "27/06/2019    355\n",
            "24/06/2019    351\n",
            "1/06/2019     342\n",
            "3/06/2019     333\n",
            "15/06/2019    328\n",
            "24/03/2019    323\n",
            "6/03/2019     308\n",
            "27/03/2019    299\n",
            "24/05/2019    286\n",
            "6/05/2019     282\n",
            "1/05/2019     277\n",
            "12/05/2019    259\n",
            "1/04/2019     257\n",
            "3/03/2019     218\n",
            "9/03/2019     200\n",
            "15/03/2019    162\n",
            "18/03/2019    156\n",
            "01/03/2019    152\n",
            "12/03/2019    142\n",
            "9/04/2019     125\n",
            "3/04/2019     110\n",
            "21/06/2019    109\n",
            "18/06/2019    105\n",
            "09/03/2019    102\n",
            "6/04/2019     100\n",
            "03/03/2019     97\n",
            "06/03/2019     95\n",
            "27/04/2019     94\n",
            "24/04/2019     92\n",
            "3/05/2019      90\n",
            "15/04/2019     89\n",
            "21/04/2019     82\n",
            "18/04/2019     67\n",
            "12/04/2019     63\n",
            "1/03/2019      47\n",
            "Name: Date_of_Journey, dtype: int64\n",
            "\n",
            "\n",
            "\n",
            "----- columnns : Source -----\n",
            "Number of Unique element :  5\n",
            "Count of each unique element :\n",
            "Delhi       4537\n",
            "Kolkata     2871\n",
            "Banglore    2197\n",
            "Mumbai       697\n",
            "Chennai      381\n",
            "Name: Source, dtype: int64\n",
            "\n",
            "\n",
            "\n",
            "----- columnns : Destination -----\n",
            "Number of Unique element :  6\n",
            "Count of each unique element :\n",
            "Cochin       4537\n",
            "Banglore     2871\n",
            "Delhi        1265\n",
            "New Delhi     932\n",
            "Hyderabad     697\n",
            "Kolkata       381\n",
            "Name: Destination, dtype: int64\n",
            "\n",
            "\n",
            "\n",
            "----- columnns : Route -----\n",
            "Number of Unique element :  128\n",
            "Count of each unique element :\n",
            "DEL → BOM → COK                2376\n",
            "BLR → DEL                      1552\n",
            "CCU → BOM → BLR                 979\n",
            "CCU → BLR                       724\n",
            "BOM → HYD                       621\n",
            "                               ... \n",
            "BOM → BLR → CCU → BBI → HYD       1\n",
            "BOM → JDH → JAI → DEL → HYD       1\n",
            "BOM → JAI → DEL → HYD             1\n",
            "BLR → HBX → BOM → AMD → DEL       1\n",
            "BOM → DED → DEL → HYD             1\n",
            "Name: Route, Length: 128, dtype: int64\n",
            "\n",
            "\n",
            "\n",
            "----- columnns : Dep_Time -----\n",
            "Number of Unique element :  222\n",
            "Count of each unique element :\n",
            "18:55    233\n",
            "17:00    227\n",
            "07:05    205\n",
            "10:00    203\n",
            "07:10    202\n",
            "        ... \n",
            "12:45      1\n",
            "04:15      1\n",
            "03:00      1\n",
            "21:40      1\n",
            "12:05      1\n",
            "Name: Dep_Time, Length: 222, dtype: int64\n",
            "\n",
            "\n",
            "\n",
            "----- columnns : Arrival_Time -----\n",
            "Number of Unique element :  1343\n",
            "Count of each unique element :\n",
            "19:00           423\n",
            "21:00           360\n",
            "19:15           333\n",
            "16:10           154\n",
            "12:35           122\n",
            "               ... \n",
            "02:20 28 Mar      1\n",
            "13:20 19 Mar      1\n",
            "22:05 22 May      1\n",
            "03:35 16 May      1\n",
            "00:25 28 Jun      1\n",
            "Name: Arrival_Time, Length: 1343, dtype: int64\n",
            "\n",
            "\n",
            "\n",
            "----- columnns : Duration -----\n",
            "Number of Unique element :  368\n",
            "Count of each unique element :\n",
            "2h 50m     550\n",
            "1h 30m     386\n",
            "2h 55m     337\n",
            "2h 45m     337\n",
            "2h 35m     329\n",
            "          ... \n",
            "31h 50m      1\n",
            "31h 30m      1\n",
            "4h 10m       1\n",
            "27h 30m      1\n",
            "19h 50m      1\n",
            "Name: Duration, Length: 368, dtype: int64\n",
            "\n",
            "\n",
            "\n",
            "----- columnns : Total_Stops -----\n",
            "Number of Unique element :  5\n",
            "Count of each unique element :\n",
            "1 stop      5625\n",
            "non-stop    3491\n",
            "2 stops     1520\n",
            "3 stops       45\n",
            "4 stops        1\n",
            "Name: Total_Stops, dtype: int64\n",
            "\n",
            "\n",
            "\n",
            "----- columnns : Additional_Info -----\n",
            "Number of Unique element :  10\n",
            "Count of each unique element :\n",
            "No info                         8345\n",
            "In-flight meal not included     1982\n",
            "No check-in baggage included     320\n",
            "1 Long layover                    19\n",
            "Change airports                    7\n",
            "Business class                     4\n",
            "No Info                            3\n",
            "1 Short layover                    1\n",
            "2 Long layover                     1\n",
            "Red-eye flight                     1\n",
            "Name: Additional_Info, dtype: int64\n",
            "\n",
            "\n",
            "\n"
          ],
          "name": "stdout"
        }
      ]
    },
    {
      "cell_type": "code",
      "metadata": {
        "colab": {
          "base_uri": "https://localhost:8080/",
          "height": 80
        },
        "id": "hl_AIQYeDESK",
        "outputId": "a3deb879-0b5c-4d19-e46b-d9c85008138e"
      },
      "source": [
        "#looking for the statistical information of our numerical column\n",
        "df.describe().T"
      ],
      "execution_count": 159,
      "outputs": [
        {
          "output_type": "execute_result",
          "data": {
            "text/html": [
              "<div>\n",
              "<style scoped>\n",
              "    .dataframe tbody tr th:only-of-type {\n",
              "        vertical-align: middle;\n",
              "    }\n",
              "\n",
              "    .dataframe tbody tr th {\n",
              "        vertical-align: top;\n",
              "    }\n",
              "\n",
              "    .dataframe thead th {\n",
              "        text-align: right;\n",
              "    }\n",
              "</style>\n",
              "<table border=\"1\" class=\"dataframe\">\n",
              "  <thead>\n",
              "    <tr style=\"text-align: right;\">\n",
              "      <th></th>\n",
              "      <th>count</th>\n",
              "      <th>mean</th>\n",
              "      <th>std</th>\n",
              "      <th>min</th>\n",
              "      <th>25%</th>\n",
              "      <th>50%</th>\n",
              "      <th>75%</th>\n",
              "      <th>max</th>\n",
              "    </tr>\n",
              "  </thead>\n",
              "  <tbody>\n",
              "    <tr>\n",
              "      <th>Price</th>\n",
              "      <td>10683.0</td>\n",
              "      <td>9087.064121</td>\n",
              "      <td>4611.359167</td>\n",
              "      <td>1759.0</td>\n",
              "      <td>5277.0</td>\n",
              "      <td>8372.0</td>\n",
              "      <td>12373.0</td>\n",
              "      <td>79512.0</td>\n",
              "    </tr>\n",
              "  </tbody>\n",
              "</table>\n",
              "</div>"
            ],
            "text/plain": [
              "         count         mean          std  ...     50%      75%      max\n",
              "Price  10683.0  9087.064121  4611.359167  ...  8372.0  12373.0  79512.0\n",
              "\n",
              "[1 rows x 8 columns]"
            ]
          },
          "metadata": {
            "tags": []
          },
          "execution_count": 159
        }
      ]
    },
    {
      "cell_type": "code",
      "metadata": {
        "colab": {
          "base_uri": "https://localhost:8080/",
          "height": 359
        },
        "id": "HBTn7rzEBmpv",
        "outputId": "c3a2e13b-b371-4d97-dc51-57c1a6d91e7c"
      },
      "source": [
        "#looking for the statistical information of our object column\n",
        "df.describe(include='object').T"
      ],
      "execution_count": 160,
      "outputs": [
        {
          "output_type": "execute_result",
          "data": {
            "text/html": [
              "<div>\n",
              "<style scoped>\n",
              "    .dataframe tbody tr th:only-of-type {\n",
              "        vertical-align: middle;\n",
              "    }\n",
              "\n",
              "    .dataframe tbody tr th {\n",
              "        vertical-align: top;\n",
              "    }\n",
              "\n",
              "    .dataframe thead th {\n",
              "        text-align: right;\n",
              "    }\n",
              "</style>\n",
              "<table border=\"1\" class=\"dataframe\">\n",
              "  <thead>\n",
              "    <tr style=\"text-align: right;\">\n",
              "      <th></th>\n",
              "      <th>count</th>\n",
              "      <th>unique</th>\n",
              "      <th>top</th>\n",
              "      <th>freq</th>\n",
              "    </tr>\n",
              "  </thead>\n",
              "  <tbody>\n",
              "    <tr>\n",
              "      <th>Airline</th>\n",
              "      <td>10683</td>\n",
              "      <td>12</td>\n",
              "      <td>Jet Airways</td>\n",
              "      <td>3849</td>\n",
              "    </tr>\n",
              "    <tr>\n",
              "      <th>Date_of_Journey</th>\n",
              "      <td>10683</td>\n",
              "      <td>44</td>\n",
              "      <td>18/05/2019</td>\n",
              "      <td>504</td>\n",
              "    </tr>\n",
              "    <tr>\n",
              "      <th>Source</th>\n",
              "      <td>10683</td>\n",
              "      <td>5</td>\n",
              "      <td>Delhi</td>\n",
              "      <td>4537</td>\n",
              "    </tr>\n",
              "    <tr>\n",
              "      <th>Destination</th>\n",
              "      <td>10683</td>\n",
              "      <td>6</td>\n",
              "      <td>Cochin</td>\n",
              "      <td>4537</td>\n",
              "    </tr>\n",
              "    <tr>\n",
              "      <th>Route</th>\n",
              "      <td>10682</td>\n",
              "      <td>128</td>\n",
              "      <td>DEL → BOM → COK</td>\n",
              "      <td>2376</td>\n",
              "    </tr>\n",
              "    <tr>\n",
              "      <th>Dep_Time</th>\n",
              "      <td>10683</td>\n",
              "      <td>222</td>\n",
              "      <td>18:55</td>\n",
              "      <td>233</td>\n",
              "    </tr>\n",
              "    <tr>\n",
              "      <th>Arrival_Time</th>\n",
              "      <td>10683</td>\n",
              "      <td>1343</td>\n",
              "      <td>19:00</td>\n",
              "      <td>423</td>\n",
              "    </tr>\n",
              "    <tr>\n",
              "      <th>Duration</th>\n",
              "      <td>10683</td>\n",
              "      <td>368</td>\n",
              "      <td>2h 50m</td>\n",
              "      <td>550</td>\n",
              "    </tr>\n",
              "    <tr>\n",
              "      <th>Total_Stops</th>\n",
              "      <td>10682</td>\n",
              "      <td>5</td>\n",
              "      <td>1 stop</td>\n",
              "      <td>5625</td>\n",
              "    </tr>\n",
              "    <tr>\n",
              "      <th>Additional_Info</th>\n",
              "      <td>10683</td>\n",
              "      <td>10</td>\n",
              "      <td>No info</td>\n",
              "      <td>8345</td>\n",
              "    </tr>\n",
              "  </tbody>\n",
              "</table>\n",
              "</div>"
            ],
            "text/plain": [
              "                 count unique              top  freq\n",
              "Airline          10683     12      Jet Airways  3849\n",
              "Date_of_Journey  10683     44       18/05/2019   504\n",
              "Source           10683      5            Delhi  4537\n",
              "Destination      10683      6           Cochin  4537\n",
              "Route            10682    128  DEL → BOM → COK  2376\n",
              "Dep_Time         10683    222            18:55   233\n",
              "Arrival_Time     10683   1343            19:00   423\n",
              "Duration         10683    368           2h 50m   550\n",
              "Total_Stops      10682      5           1 stop  5625\n",
              "Additional_Info  10683     10          No info  8345"
            ]
          },
          "metadata": {
            "tags": []
          },
          "execution_count": 160
        }
      ]
    },
    {
      "cell_type": "code",
      "metadata": {
        "colab": {
          "base_uri": "https://localhost:8080/",
          "height": 1000
        },
        "id": "2iXdGbR3oCD0",
        "outputId": "19c88062-60a7-4346-a74c-b9316db7066b"
      },
      "source": [
        "#plotting the count plot for catagorical value\n",
        "cat_col=['Airline','Source','Destination','Total_Stops']\n",
        "plt.figure(figsize=(18,15))\n",
        "for i,col in enumerate(cat_col):\n",
        "  plt.subplot(2,2,i+1)\n",
        "  sn.countplot(x=col,data=df)\n",
        "  plt.title(col)\n",
        "  plt.xticks(rotation=90)\n",
        "  plt.tight_layout()"
      ],
      "execution_count": 167,
      "outputs": [
        {
          "output_type": "display_data",
          "data": {
            "image/png": "[encoded data removed]",
            "text/plain": [
              "<Figure size 1296x1080 with 4 Axes>"
            ]
          },
          "metadata": {
            "tags": [],
            "needs_background": "light"
          }
        }
      ]
    },
    {
      "cell_type": "markdown",
      "metadata": {
        "id": "Hj37UoK_s65o"
      },
      "source": [
        "We can see that the count of ject airways, people travelling from delhi, people travelling to cochin, people taking one stop flight are more in count \n",
        " "
      ]
    },
    {
      "cell_type": "code",
      "metadata": {
        "colab": {
          "base_uri": "https://localhost:8080/",
          "height": 1000
        },
        "id": "Hs6YzrwSoCG-",
        "outputId": "bd5889e3-32af-4e00-c2c5-efbf0ffb6296"
      },
      "source": [
        "#plotting the count plot for catagorical value\n",
        "cat_col=['Airline','Source','Destination','Total_Stops']\n",
        "plt.figure(figsize=(18,15))\n",
        "for i,col in enumerate(cat_col):\n",
        "  plt.subplot(2,2,i+1)\n",
        "  sn.barplot(x=col,y='Price',data=df)\n",
        "  plt.title(col)\n",
        "  plt.xticks(rotation=90)\n",
        "  plt.tight_layout()"
      ],
      "execution_count": 168,
      "outputs": [
        {
          "output_type": "display_data",
          "data": {
            "image/png": "[encoded data removed]",
            "text/plain": [
              "<Figure size 1296x1080 with 4 Axes>"
            ]
          },
          "metadata": {
            "tags": [],
            "needs_background": "light"
          }
        }
      ]
    },
    {
      "cell_type": "markdown",
      "metadata": {
        "id": "kCBiwenWthwk"
      },
      "source": [
        "The Jet Airlines Business cost is very much high and cost of flight from and to delhi is also hight and 4 stop flight cost more than other and"
      ]
    },
    {
      "cell_type": "code",
      "metadata": {
        "colab": {
          "base_uri": "https://localhost:8080/",
          "height": 357
        },
        "id": "j3OvW-kBoCNG",
        "outputId": "b947c79f-fa95-4f85-f75c-f8a695fa023d"
      },
      "source": [
        "#ploating the heat map to see wheather the null value is present or not\n",
        "sn.heatmap(df.isnull())"
      ],
      "execution_count": 169,
      "outputs": [
        {
          "output_type": "execute_result",
          "data": {
            "text/plain": [
              "<matplotlib.axes._subplots.AxesSubplot at 0x7f266a419ad0>"
            ]
          },
          "metadata": {
            "tags": []
          },
          "execution_count": 169
        },
        {
          "output_type": "display_data",
          "data": {
            "image/png": "[encoded data removed]",
            "text/plain": [
              "<Figure size 432x288 with 2 Axes>"
            ]
          },
          "metadata": {
            "tags": [],
            "needs_background": "light"
          }
        }
      ]
    },
    {
      "cell_type": "markdown",
      "metadata": {
        "id": "whQYy3XTuGNS"
      },
      "source": [
        "We can see that there are no null value"
      ]
    },
    {
      "cell_type": "code",
      "metadata": {
        "colab": {
          "base_uri": "https://localhost:8080/",
          "height": 80
        },
        "id": "Qd_WYiLvp5Fc",
        "outputId": "efb47016-64ac-4bac-fd83-fbc522e74735"
      },
      "source": [
        "#seeing correlation of each parameter with label column\n",
        "dfcor=df.corr()\n",
        "dfcor"
      ],
      "execution_count": 170,
      "outputs": [
        {
          "output_type": "execute_result",
          "data": {
            "text/html": [
              "<div>\n",
              "<style scoped>\n",
              "    .dataframe tbody tr th:only-of-type {\n",
              "        vertical-align: middle;\n",
              "    }\n",
              "\n",
              "    .dataframe tbody tr th {\n",
              "        vertical-align: top;\n",
              "    }\n",
              "\n",
              "    .dataframe thead th {\n",
              "        text-align: right;\n",
              "    }\n",
              "</style>\n",
              "<table border=\"1\" class=\"dataframe\">\n",
              "  <thead>\n",
              "    <tr style=\"text-align: right;\">\n",
              "      <th></th>\n",
              "      <th>Price</th>\n",
              "    </tr>\n",
              "  </thead>\n",
              "  <tbody>\n",
              "    <tr>\n",
              "      <th>Price</th>\n",
              "      <td>1.0</td>\n",
              "    </tr>\n",
              "  </tbody>\n",
              "</table>\n",
              "</div>"
            ],
            "text/plain": [
              "       Price\n",
              "Price    1.0"
            ]
          },
          "metadata": {
            "tags": []
          },
          "execution_count": 170
        }
      ]
    },
    {
      "cell_type": "markdown",
      "metadata": {
        "id": "2ziCw3mnuHpU"
      },
      "source": [
        "# Data cleaning"
      ]
    },
    {
      "cell_type": "markdown",
      "metadata": {
        "id": "8jwqTlVwuTG7"
      },
      "source": [
        "We would be cleaning both train and test data"
      ]
    },
    {
      "cell_type": "code",
      "metadata": {
        "id": "KW6MOIabBmtP"
      },
      "source": [
        "#splitting the 'Date_of_Journey'\n",
        "df['Month']=df['Date_of_Journey'].str.split('/').str[0]\n",
        "df['Date']=df['Date_of_Journey'].str.split('/').str[1]"
      ],
      "execution_count": 112,
      "outputs": []
    },
    {
      "cell_type": "code",
      "metadata": {
        "id": "yINCm__6RjNg"
      },
      "source": [
        "dff['Month']=dff['Date_of_Journey'].str.split('/').str[0]\n",
        "dff['Date']=dff['Date_of_Journey'].str.split('/').str[1]"
      ],
      "execution_count": 113,
      "outputs": []
    },
    {
      "cell_type": "code",
      "metadata": {
        "id": "C3NnNXR6X6Vc"
      },
      "source": [
        "#droping the 'Date_of_Journey'\n",
        "df.drop('Date_of_Journey',axis=1,inplace=True)"
      ],
      "execution_count": 114,
      "outputs": []
    },
    {
      "cell_type": "code",
      "metadata": {
        "id": "Yvlsa-GvRq8c"
      },
      "source": [
        "dff.drop('Date_of_Journey',axis=1,inplace=True)"
      ],
      "execution_count": 115,
      "outputs": []
    },
    {
      "cell_type": "markdown",
      "metadata": {
        "id": "2Jf-rhoFujDY"
      },
      "source": [
        "We have extracted date and month from 'Date of Journey' column and we are droping the 'Date_of_Journey' from both train and test data"
      ]
    },
    {
      "cell_type": "code",
      "metadata": {
        "id": "0IDNTyLBYYme"
      },
      "source": [
        "#droping the 'Route'\n",
        "df.drop('Route',axis=1,inplace=True)"
      ],
      "execution_count": 116,
      "outputs": []
    },
    {
      "cell_type": "code",
      "metadata": {
        "id": "_fe1ZQrnRvAv"
      },
      "source": [
        "dff.drop('Route',axis=1,inplace=True)"
      ],
      "execution_count": 117,
      "outputs": []
    },
    {
      "cell_type": "code",
      "metadata": {
        "id": "9z0PpQoZYjTx"
      },
      "source": [
        "#droping the 'Additional_Info'\n",
        "df.drop('Additional_Info',axis=1,inplace=True)"
      ],
      "execution_count": 118,
      "outputs": []
    },
    {
      "cell_type": "code",
      "metadata": {
        "id": "nSFhxL-QRyE_"
      },
      "source": [
        "dff.drop('Additional_Info',axis=1,inplace=True)"
      ],
      "execution_count": 119,
      "outputs": []
    },
    {
      "cell_type": "markdown",
      "metadata": {
        "id": "_Snbl66fvCTn"
      },
      "source": [
        "We have droped the Route as we have got most of the infromation from other column and we have also droped the additional information as there are lot of null values."
      ]
    },
    {
      "cell_type": "code",
      "metadata": {
        "id": "VLCtTABhY71t"
      },
      "source": [
        "#splitting the Arrival_Time\n",
        "df['Arrival_Time']= df['Arrival_Time'].str.split().str[0]"
      ],
      "execution_count": 120,
      "outputs": []
    },
    {
      "cell_type": "code",
      "metadata": {
        "id": "8pjOtnknR71d"
      },
      "source": [
        "dff['Arrival_Time']= df['Arrival_Time'].str.split().str[0]"
      ],
      "execution_count": 121,
      "outputs": []
    },
    {
      "cell_type": "markdown",
      "metadata": {
        "id": "MjNtiTLRvoaY"
      },
      "source": [
        "We have extracted the time from that column and we have removed all unwanted inputs present in our data set"
      ]
    },
    {
      "cell_type": "code",
      "metadata": {
        "colab": {
          "base_uri": "https://localhost:8080/",
          "height": 80
        },
        "id": "2nutsfvSfyn-",
        "outputId": "473c9f11-023f-4695-adcc-de1ee3e4150a"
      },
      "source": [
        "#Displaying the rows with null value \n",
        "df[df.isna().any(axis=1)]"
      ],
      "execution_count": 122,
      "outputs": [
        {
          "output_type": "execute_result",
          "data": {
            "text/html": [
              "<div>\n",
              "<style scoped>\n",
              "    .dataframe tbody tr th:only-of-type {\n",
              "        vertical-align: middle;\n",
              "    }\n",
              "\n",
              "    .dataframe tbody tr th {\n",
              "        vertical-align: top;\n",
              "    }\n",
              "\n",
              "    .dataframe thead th {\n",
              "        text-align: right;\n",
              "    }\n",
              "</style>\n",
              "<table border=\"1\" class=\"dataframe\">\n",
              "  <thead>\n",
              "    <tr style=\"text-align: right;\">\n",
              "      <th></th>\n",
              "      <th>Airline</th>\n",
              "      <th>Source</th>\n",
              "      <th>Destination</th>\n",
              "      <th>Dep_Time</th>\n",
              "      <th>Arrival_Time</th>\n",
              "      <th>Duration</th>\n",
              "      <th>Total_Stops</th>\n",
              "      <th>Price</th>\n",
              "      <th>Month</th>\n",
              "      <th>Date</th>\n",
              "    </tr>\n",
              "  </thead>\n",
              "  <tbody>\n",
              "    <tr>\n",
              "      <th>9039</th>\n",
              "      <td>Air India</td>\n",
              "      <td>Delhi</td>\n",
              "      <td>Cochin</td>\n",
              "      <td>09:45</td>\n",
              "      <td>09:25</td>\n",
              "      <td>23h 40m</td>\n",
              "      <td>NaN</td>\n",
              "      <td>7480</td>\n",
              "      <td>6</td>\n",
              "      <td>05</td>\n",
              "    </tr>\n",
              "  </tbody>\n",
              "</table>\n",
              "</div>"
            ],
            "text/plain": [
              "        Airline Source Destination Dep_Time  ... Total_Stops Price Month  Date\n",
              "9039  Air India  Delhi      Cochin    09:45  ...         NaN  7480     6    05\n",
              "\n",
              "[1 rows x 10 columns]"
            ]
          },
          "metadata": {
            "tags": []
          },
          "execution_count": 122
        }
      ]
    },
    {
      "cell_type": "code",
      "metadata": {
        "id": "dULjiFPMjDXR"
      },
      "source": [
        "#spliting the 'Duration' column\n",
        "df['Duration']=df['Duration'].str.split()"
      ],
      "execution_count": 123,
      "outputs": []
    },
    {
      "cell_type": "code",
      "metadata": {
        "id": "JWb5R0U4SFXD"
      },
      "source": [
        "dff['Duration']=dff['Duration'].str.split()"
      ],
      "execution_count": 124,
      "outputs": []
    },
    {
      "cell_type": "code",
      "metadata": {
        "id": "DZuUR8O0jO__"
      },
      "source": [
        "#storing the hours seperately\n",
        "hour=[]\n",
        "time=list(df['Duration'])\n",
        "for i in range(len(time)):\n",
        "  for j in range(len(time[i])):\n",
        "    if j == 0:\n",
        "      if 'h' in time[i][j]:\n",
        "        hour.append(time[i][j])\n",
        "      else:\n",
        "        hour.append('0h')"
      ],
      "execution_count": 125,
      "outputs": []
    },
    {
      "cell_type": "code",
      "metadata": {
        "id": "NVp7jKXiSVE7"
      },
      "source": [
        "hours=[]\n",
        "time=list(dff['Duration'])\n",
        "for i in range(len(time)):\n",
        "  for j in range(len(time[i])):\n",
        "    if j == 0:\n",
        "      if 'h' in time[i][j]:\n",
        "        hours.append(time[i][j])\n",
        "      else:\n",
        "        hours.append('0h')"
      ],
      "execution_count": 126,
      "outputs": []
    },
    {
      "cell_type": "code",
      "metadata": {
        "id": "FhKD0gWcZIjk"
      },
      "source": [
        "#storing the hours seperately\n",
        "min=[]\n",
        "time=list(df['Duration'])\n",
        "for i in range(len(time)):\n",
        "  if len(time[i]) == 2:\n",
        "    min.append(time[i][-1])\n",
        "  else:\n",
        "    min.append('0m')"
      ],
      "execution_count": 127,
      "outputs": []
    },
    {
      "cell_type": "code",
      "metadata": {
        "id": "y7MKay2LSw2G"
      },
      "source": [
        "mins=[]\n",
        "time=list(dff['Duration'])\n",
        "for i in range(len(time)):\n",
        "  if len(time[i]) == 2:\n",
        "    mins.append(time[i][-1])\n",
        "  else:\n",
        "    mins.append('0m')"
      ],
      "execution_count": 128,
      "outputs": []
    },
    {
      "cell_type": "code",
      "metadata": {
        "id": "L8Gdn_5s2Pz0"
      },
      "source": [
        "#extracting the numerical value from the 'duration' column\n",
        "df['Dur_hours']=hour\n",
        "df['Dur_minutes']=min\n",
        "df['Dur_hours']=df['Dur_hours'].str.split('h').str[0]\n",
        "df['Dur_minutes']=df['Dur_minutes'].str.split('m').str[0]"
      ],
      "execution_count": 129,
      "outputs": []
    },
    {
      "cell_type": "code",
      "metadata": {
        "id": "dgPKQFkgS6fV"
      },
      "source": [
        "dff['Dur_hours']=hours\n",
        "dff['Dur_minutes']=mins\n",
        "dff['Dur_hours']=dff['Dur_hours'].str.split('h').str[0]\n",
        "dff['Dur_minutes']=dff['Dur_minutes'].str.split('m').str[0]"
      ],
      "execution_count": 130,
      "outputs": []
    },
    {
      "cell_type": "code",
      "metadata": {
        "id": "ohCtXn9iF7fh"
      },
      "source": [
        "#converting 'Duration' into numerical\n",
        "df['Dur_hours']=df['Dur_hours'].astype(int)\n",
        "df['Dur_minutes']=df['Dur_minutes'].astype(int)"
      ],
      "execution_count": 131,
      "outputs": []
    },
    {
      "cell_type": "code",
      "metadata": {
        "id": "99MywmpGTEuw"
      },
      "source": [
        "dff['Dur_hours']=dff['Dur_hours'].astype(int)\n",
        "dff['Dur_minutes']=dff['Dur_minutes'].astype(int)"
      ],
      "execution_count": 132,
      "outputs": []
    },
    {
      "cell_type": "code",
      "metadata": {
        "id": "ZpTRJSEV_ycC"
      },
      "source": [
        "#coverting the minutes into hours \n",
        "df['Dur_minutes']=df['Dur_minutes']/60\n",
        "df['Dur_hours']=df['Dur_hours']+df['Dur_minutes']\n",
        "df.drop('Dur_minutes',axis=1,inplace=True)\n",
        "df.drop('Duration',axis=1,inplace=True)"
      ],
      "execution_count": 133,
      "outputs": []
    },
    {
      "cell_type": "code",
      "metadata": {
        "id": "4K8XZRjWTQ-K"
      },
      "source": [
        "dff['Dur_minutes']=dff['Dur_minutes']/60\n",
        "dff['Dur_hours']=dff['Dur_hours']+dff['Dur_minutes']\n",
        "dff.drop('Dur_minutes',axis=1,inplace=True)\n",
        "dff.drop('Duration',axis=1,inplace=True)"
      ],
      "execution_count": 134,
      "outputs": []
    },
    {
      "cell_type": "code",
      "metadata": {
        "id": "Qig18W66Icwy"
      },
      "source": [
        "#droping the rows with null values \n",
        "df=df.dropna(axis=0)"
      ],
      "execution_count": 135,
      "outputs": []
    },
    {
      "cell_type": "markdown",
      "metadata": {
        "id": "6ek-3wyKxnyC"
      },
      "source": [
        "Here I have extracted the hour and minutes separately and converted minutes into hours and the I have stored this value in separate column"
      ]
    },
    {
      "cell_type": "code",
      "metadata": {
        "id": "LhQfREl_GJ6T"
      },
      "source": [
        "#splitting the Dep_Time \n",
        "df['Dep_hour']=df['Dep_Time'].str.split(':').str[0]\n",
        "df['Dep_min']=df['Dep_Time'].str.split(':').str[-1]\n",
        "df.drop('Dep_Time',axis=1,inplace=True)"
      ],
      "execution_count": 136,
      "outputs": []
    },
    {
      "cell_type": "code",
      "metadata": {
        "id": "B_WK4npbTdSv"
      },
      "source": [
        "dff['Dep_hour']=dff['Dep_Time'].str.split(':').str[0]\n",
        "dff['Dep_min']=dff['Dep_Time'].str.split(':').str[-1]\n",
        "dff.drop('Dep_Time',axis=1,inplace=True)"
      ],
      "execution_count": 137,
      "outputs": []
    },
    {
      "cell_type": "markdown",
      "metadata": {
        "id": "zm_iyaCzyLG5"
      },
      "source": [
        "I have splitted the Dep_Time and stored the hours and Min separately"
      ]
    },
    {
      "cell_type": "code",
      "metadata": {
        "id": "NIZY5nk8KOFq"
      },
      "source": [
        "#splitting the Arr_Time\n",
        "df['Arr_hour']=df['Arrival_Time'].str.split(':').str[0]\n",
        "df['Arr_min']=df['Arrival_Time'].str.split(':').str[-1]\n",
        "df.drop('Arrival_Time',axis=1,inplace=True)"
      ],
      "execution_count": 138,
      "outputs": []
    },
    {
      "cell_type": "code",
      "metadata": {
        "id": "hWHrAl3sTmIk"
      },
      "source": [
        "dff['Arr_hour']=dff['Arrival_Time'].str.split(':').str[0]\n",
        "dff['Arr_min']=dff['Arrival_Time'].str.split(':').str[-1]\n",
        "dff.drop('Arrival_Time',axis=1,inplace=True)"
      ],
      "execution_count": 139,
      "outputs": []
    },
    {
      "cell_type": "markdown",
      "metadata": {
        "id": "3jrDpHF6ycF6"
      },
      "source": [
        "I have splitted the Arr_hour and stored the hours and Min separately"
      ]
    },
    {
      "cell_type": "code",
      "metadata": {
        "id": "OJsquJ8GG-dF"
      },
      "source": [
        "#convertin into int data type\n",
        "df['Dep_hour']=df['Dep_hour'].astype(int)\n",
        "df['Dep_min']=df['Dep_min'].astype(int)\n",
        "df['Arr_hour']=df['Arr_hour'].astype(int)\n",
        "df['Arr_min']=df['Arr_min'].astype(int)"
      ],
      "execution_count": 140,
      "outputs": []
    },
    {
      "cell_type": "code",
      "metadata": {
        "id": "g3RMqxDiTuS7"
      },
      "source": [
        "dff['Dep_hour']=dff['Dep_hour'].astype(int)\n",
        "dff['Dep_min']=dff['Dep_min'].astype(int)\n",
        "dff['Arr_hour']=dff['Arr_hour'].astype(int)\n",
        "dff['Arr_min']=dff['Arr_min'].astype(int)"
      ],
      "execution_count": 141,
      "outputs": []
    },
    {
      "cell_type": "code",
      "metadata": {
        "id": "wlE2M51yHTaW"
      },
      "source": [
        "df['Month']=df['Month'].astype(int)\n",
        "df['Date']=df['Date'].astype(int)"
      ],
      "execution_count": 142,
      "outputs": []
    },
    {
      "cell_type": "code",
      "metadata": {
        "id": "TVRDeyZGT4du"
      },
      "source": [
        "dff['Month']=dff['Month'].astype(int)\n",
        "dff['Date']=dff['Date'].astype(int)"
      ],
      "execution_count": 143,
      "outputs": []
    },
    {
      "cell_type": "markdown",
      "metadata": {
        "id": "KyPOBPQgywlY"
      },
      "source": [
        "I have converted the data into integer type"
      ]
    },
    {
      "cell_type": "code",
      "metadata": {
        "id": "m1dOyVPVUW80"
      },
      "source": [
        "#replacing the values in Total_Stops\n",
        "df['Total_Stops'].replace({'non-stop':0, '1 stop':1, '2 stops':2, '3 stops':3, '4 stops':4},inplace=True)"
      ],
      "execution_count": 144,
      "outputs": []
    },
    {
      "cell_type": "code",
      "metadata": {
        "id": "pOxzeWUnXCer"
      },
      "source": [
        "dff['Total_Stops'].replace({'non-stop':0, '1 stop':1, '2 stops':2, '3 stops':3, '4 stops':4},inplace=True)"
      ],
      "execution_count": 145,
      "outputs": []
    },
    {
      "cell_type": "code",
      "metadata": {
        "id": "MhwGt6iMUW_Z"
      },
      "source": [
        "#applying the label encoder on 3 columns\n",
        "col=['Airline','Source','Destination']\n",
        "from sklearn.preprocessing import LabelEncoder\n",
        "LE=LabelEncoder()\n",
        "for i in col:\n",
        "  df[i]=LE.fit_transform(df[i])"
      ],
      "execution_count": null,
      "outputs": []
    },
    {
      "cell_type": "code",
      "metadata": {
        "id": "05hae4EoHjdn"
      },
      "source": [
        "col=['Airline','Source','Destination']\n",
        "from sklearn.preprocessing import LabelEncoder\n",
        "LE=LabelEncoder()\n",
        "for i in col:\n",
        "  dff[i]=LE.fit_transform(dff[i])"
      ],
      "execution_count": null,
      "outputs": []
    },
    {
      "cell_type": "code",
      "metadata": {
        "id": "TimCDY0WbAPt"
      },
      "source": [
        "#copying for the emergency\n",
        "df1=df.copy()"
      ],
      "execution_count": null,
      "outputs": []
    },
    {
      "cell_type": "code",
      "metadata": {
        "id": "0c14IfRRHjgY",
        "colab": {
          "base_uri": "https://localhost:8080/"
        },
        "outputId": "876541dd-de82-4f6d-edc9-0b9bf4be50f9"
      },
      "source": [
        "#removing outlier by z score method\n",
        "from scipy.stats import zscore\n",
        "z=np.abs(zscore(df1))\n",
        "df1=df1[(z<3).all(axis=1)]\n",
        "print(\"Before removing outliers::\",df.shape)\n",
        "print(\"After removing outliers::\",df1.shape)\n",
        "p=100-(len(df1.index)/len(df.index)*100)\n",
        "print(f'We are lossing {p} % of data.')"
      ],
      "execution_count": null,
      "outputs": [
        {
          "output_type": "stream",
          "text": [
            "Before removing outliers:: (10682, 12)\n",
            "After removing outliers:: (10488, 12)\n",
            "We are lossing 1.8161392997565997 % of data.\n"
          ],
          "name": "stdout"
        }
      ]
    },
    {
      "cell_type": "code",
      "metadata": {
        "id": "C7KrAPqJHjkM"
      },
      "source": [
        "#Creating the dependent and independent variable \n",
        "x=df1.drop('Price',axis=1)\n",
        "y=df1['Price']"
      ],
      "execution_count": null,
      "outputs": []
    },
    {
      "cell_type": "code",
      "metadata": {
        "id": "IBBOQBZGbmoP"
      },
      "source": [
        "#removing skewness by power transform\n",
        "from sklearn.preprocessing import power_transform\n",
        "x=power_transform(x,method='yeo-johnson')"
      ],
      "execution_count": null,
      "outputs": []
    },
    {
      "cell_type": "code",
      "metadata": {
        "id": "pCjMuaJ8bmq-"
      },
      "source": [
        "dff=power_transform(dff,method='yeo-johnson')"
      ],
      "execution_count": null,
      "outputs": []
    },
    {
      "cell_type": "code",
      "metadata": {
        "id": "riPT6bP0b2H7"
      },
      "source": [
        "#applying standard scaling method on X variable \n",
        "from sklearn.preprocessing import StandardScaler\n",
        "ss=StandardScaler()\n",
        "x=ss.fit_transform(x)"
      ],
      "execution_count": null,
      "outputs": []
    },
    {
      "cell_type": "code",
      "metadata": {
        "id": "9g02ptEjb2KJ"
      },
      "source": [
        "dff=ss.fit_transform(dff)"
      ],
      "execution_count": null,
      "outputs": []
    },
    {
      "cell_type": "markdown",
      "metadata": {
        "id": "_Irivtk5zRTw"
      },
      "source": [
        "# Model building "
      ]
    },
    {
      "cell_type": "code",
      "metadata": {
        "id": "PfuV6dS4b8Hz"
      },
      "source": [
        "#importing the library for model building\n",
        "from sklearn.model_selection import train_test_split, cross_val_score\n",
        "from sklearn.metrics import r2_score,accuracy_score,confusion_matrix\n",
        "from sklearn.metrics import mean_squared_error, mean_absolute_error\n",
        "from sklearn.model_selection import KFold"
      ],
      "execution_count": null,
      "outputs": []
    },
    {
      "cell_type": "code",
      "metadata": {
        "colab": {
          "base_uri": "https://localhost:8080/"
        },
        "id": "CKAOo1Pxb8KV",
        "outputId": "1eb7c1c2-cef8-493c-a577-d19271798a09"
      },
      "source": [
        "#selecting the best random state\n",
        "from sklearn.ensemble import RandomForestRegressor\n",
        "\n",
        "mA=0\n",
        "mRS=0\n",
        "for i in range(1,100):\n",
        "  x_train,x_test,y_train,y_test=train_test_split(x,y,test_size=0.25,random_state=i)\n",
        "  mod=RandomForestRegressor()\n",
        "  mod.fit(x_train,y_train)\n",
        "  pred=mod.predict(x_test)\n",
        "  r2=r2_score(y_test,pred)\n",
        "  if r2>mA:\n",
        "    mA=r2\n",
        "    mRS=i\n",
        "print('Best accuracy is ',mA,' on random state ',mRS)"
      ],
      "execution_count": null,
      "outputs": [
        {
          "output_type": "stream",
          "text": [
            "Best accuracy is  0.8283358867678141  on random state  7\n"
          ],
          "name": "stdout"
        }
      ]
    },
    {
      "cell_type": "code",
      "metadata": {
        "id": "n-qMBlfpb8PZ"
      },
      "source": [
        "#building the model using LinearRegression, RandomForestRegressor, DecissionTreeRegressor, svrkernal, Lasso\n",
        "from sklearn.linear_model import LinearRegression, Lasso\n",
        "from sklearn.tree import DecisionTreeRegressor\n",
        "from sklearn.ensemble import RandomForestRegressor\n",
        "from sklearn.svm import SVR"
      ],
      "execution_count": null,
      "outputs": []
    },
    {
      "cell_type": "code",
      "metadata": {
        "id": "lt7rJZfpdJcz"
      },
      "source": [
        "#spliting the data into train and test\n",
        "x_train,x_test,y_train,y_test=train_test_split(x,y,test_size=0.20,random_state=7)"
      ],
      "execution_count": null,
      "outputs": []
    },
    {
      "cell_type": "code",
      "metadata": {
        "colab": {
          "base_uri": "https://localhost:8080/"
        },
        "id": "czelJRR0dNRK",
        "outputId": "0a0c5d21-a064-4980-a584-b2ef96665b16"
      },
      "source": [
        "#building model \n",
        "model={LinearRegression():\"LinearRegression\", DecisionTreeRegressor():'DecisionTreeRegressor', RandomForestRegressor():'RandomForestRegressor', Lasso():'Lasso'}\n",
        "r2score=[]\n",
        "crossvalidation=[]\n",
        "for key in model:\n",
        "  print(\"===== \",model.get(key),' model ===== ')\n",
        "  key.fit(x_train,y_train)\n",
        "  pred=key.predict(x_test)\n",
        "  r2=r2_score(y_test,pred)\n",
        "  print(\"R2 Score / Accuracy Score is \",r2)\n",
        "  r2score.append(r2)\n",
        "  cvv = KFold(n_splits=10, shuffle=True)\n",
        "  c=cross_val_score(key,x,y,cv=cvv,scoring='r2')\n",
        "  print('Cross validation score is',(np.abs(c)).mean(),'\\n')\n",
        "  crossvalidation.append((np.abs(c)).mean())\n",
        "  mse=mean_squared_error(y_test,pred)\n",
        "  print('Mean Squared Error',mse)\n",
        "  mae=mean_absolute_error(y_test,pred)\n",
        "  print('Mean Absolute Error',mae)\n",
        "  print('\\n\\n\\n')"
      ],
      "execution_count": null,
      "outputs": [
        {
          "output_type": "stream",
          "text": [
            "=====  LinearRegression  model ===== \n",
            "R2 Score / Accuracy Score is  0.5573605222705897\n",
            "Cross validation score is 0.5334199142019183 \n",
            "\n",
            "Mean Squared Error 7276516.568955463\n",
            "Mean Absolute Error 2155.180222539109\n",
            "\n",
            "\n",
            "\n",
            "\n",
            "=====  DecisionTreeRegressor  model ===== \n",
            "R2 Score / Accuracy Score is  0.723386296028621\n",
            "Cross validation score is 0.7049000005176358 \n",
            "\n",
            "Mean Squared Error 4547231.55393364\n",
            "Mean Absolute Error 1297.6393549412137\n",
            "\n",
            "\n",
            "\n",
            "\n",
            "=====  RandomForestRegressor  model ===== \n",
            "R2 Score / Accuracy Score is  0.8258329091798471\n",
            "Cross validation score is 0.8057266644025234 \n",
            "\n",
            "Mean Squared Error 2863119.504434135\n",
            "Mean Absolute Error 1110.9402289789837\n",
            "\n",
            "\n",
            "\n",
            "\n",
            "=====  Lasso  model ===== \n",
            "R2 Score / Accuracy Score is  0.5573829122037314\n",
            "Cross validation score is 0.5332819104879716 \n",
            "\n",
            "Mean Squared Error 7276148.502554522\n",
            "Mean Absolute Error 2154.9457524037025\n",
            "\n",
            "\n",
            "\n",
            "\n"
          ],
          "name": "stdout"
        }
      ]
    },
    {
      "cell_type": "code",
      "metadata": {
        "colab": {
          "base_uri": "https://localhost:8080/",
          "height": 173
        },
        "id": "0597emeadUSK",
        "outputId": "f05a12a7-b161-4ba5-b3f5-64ac7142cddf"
      },
      "source": [
        "#selecting the best model\n",
        "Modelselection=pd.DataFrame({})\n",
        "Modelselection['Model_Name']=['LinearRegression','DecisionTreeRegressor', 'RandomForestRegressor','Lasso']\n",
        "Modelselection['R2 Score']=r2score\n",
        "Modelselection['Cross Validation']=crossvalidation\n",
        "Modelselection['Diff of R2 and Cross_Val']=(Modelselection['R2 Score']-Modelselection['Cross Validation'])\n",
        "Modelselection"
      ],
      "execution_count": null,
      "outputs": [
        {
          "output_type": "execute_result",
          "data": {
            "text/html": [
              "<div>\n",
              "<style scoped>\n",
              "    .dataframe tbody tr th:only-of-type {\n",
              "        vertical-align: middle;\n",
              "    }\n",
              "\n",
              "    .dataframe tbody tr th {\n",
              "        vertical-align: top;\n",
              "    }\n",
              "\n",
              "    .dataframe thead th {\n",
              "        text-align: right;\n",
              "    }\n",
              "</style>\n",
              "<table border=\"1\" class=\"dataframe\">\n",
              "  <thead>\n",
              "    <tr style=\"text-align: right;\">\n",
              "      <th></th>\n",
              "      <th>Model_Name</th>\n",
              "      <th>R2 Score</th>\n",
              "      <th>Cross Validation</th>\n",
              "      <th>Diff of R2 and Cross_Val</th>\n",
              "    </tr>\n",
              "  </thead>\n",
              "  <tbody>\n",
              "    <tr>\n",
              "      <th>0</th>\n",
              "      <td>LinearRegression</td>\n",
              "      <td>0.557361</td>\n",
              "      <td>0.533420</td>\n",
              "      <td>0.023941</td>\n",
              "    </tr>\n",
              "    <tr>\n",
              "      <th>1</th>\n",
              "      <td>DecisionTreeRegressor</td>\n",
              "      <td>0.723386</td>\n",
              "      <td>0.704900</td>\n",
              "      <td>0.018486</td>\n",
              "    </tr>\n",
              "    <tr>\n",
              "      <th>2</th>\n",
              "      <td>RandomForestRegressor</td>\n",
              "      <td>0.825833</td>\n",
              "      <td>0.805727</td>\n",
              "      <td>0.020106</td>\n",
              "    </tr>\n",
              "    <tr>\n",
              "      <th>3</th>\n",
              "      <td>Lasso</td>\n",
              "      <td>0.557383</td>\n",
              "      <td>0.533282</td>\n",
              "      <td>0.024101</td>\n",
              "    </tr>\n",
              "  </tbody>\n",
              "</table>\n",
              "</div>"
            ],
            "text/plain": [
              "              Model_Name  R2 Score  Cross Validation  Diff of R2 and Cross_Val\n",
              "0       LinearRegression  0.557361          0.533420                  0.023941\n",
              "1  DecisionTreeRegressor  0.723386          0.704900                  0.018486\n",
              "2  RandomForestRegressor  0.825833          0.805727                  0.020106\n",
              "3                  Lasso  0.557383          0.533282                  0.024101"
            ]
          },
          "metadata": {
            "tags": []
          },
          "execution_count": 86
        }
      ]
    },
    {
      "cell_type": "markdown",
      "metadata": {
        "id": "Fp60wCmHzdqb"
      },
      "source": [
        "We have got the RandomForestRegressor with **82%** accuracy with 2% variance. So, Lets do hyper parameter tuning on it"
      ]
    },
    {
      "cell_type": "code",
      "metadata": {
        "colab": {
          "base_uri": "https://localhost:8080/"
        },
        "id": "sPPPPOsVdUeh",
        "outputId": "ea9b41e5-deda-4cb1-8eea-c562c4baf6d9"
      },
      "source": [
        "#hyper parameter tunning for RandomForestRegressor \n",
        "from sklearn.model_selection import GridSearchCV\n",
        "from sklearn.ensemble import RandomForestRegressor\n",
        "\n",
        "p1={'max_features':['sqrt'],'criterion': ['mse','mae'],'max_depth':np.arange(2,5)}\n",
        "p2={'oob_score':['True'],'bootstrap':['False','True'],'max_leaf_nodes':[2,3,4]}\n",
        "p=[p1,p2]\n",
        "\n",
        "for i in p:\n",
        "  r_f=RandomForestRegressor()\n",
        "  clf=GridSearchCV(r_f,i)\n",
        "  clf.fit(x_train,y_train)\n",
        "  print(clf.best_params_)"
      ],
      "execution_count": null,
      "outputs": [
        {
          "output_type": "stream",
          "text": [
            "{'criterion': 'mse', 'max_depth': 4, 'max_features': 'sqrt'}\n",
            "{'bootstrap': 'False', 'max_leaf_nodes': 4, 'oob_score': 'True'}\n"
          ],
          "name": "stdout"
        }
      ]
    },
    {
      "cell_type": "code",
      "metadata": {
        "colab": {
          "base_uri": "https://localhost:8080/"
        },
        "id": "eUnZ1oOAew7W",
        "outputId": "8afd556d-3794-424d-aaf9-a894dbc90d3c"
      },
      "source": [
        "model_1=RandomForestRegressor(criterion='mse', max_depth=4, max_features='sqrt')\n",
        "model_1.fit(x_train,y_train)\n",
        "pred=model_1.predict(x_test)\n",
        "r2=r2_score(y_test,pred)\n",
        "print(\"R2 Score / Accuracy Score is \",r2)\n",
        "cvv = KFold(n_splits=10, shuffle=True)\n",
        "c=cross_val_score(model_1,x,y,cv=cvv,scoring='r2')\n",
        "print('Cross validation score is',(np.abs(c)).mean(),'\\n')\n",
        "mse=mean_squared_error(y_test,pred)\n",
        "print('Mean Squared Error',mse)\n",
        "mae=mean_absolute_error(y_test,pred)\n",
        "print('Mean Absolute Error',mae)"
      ],
      "execution_count": null,
      "outputs": [
        {
          "output_type": "stream",
          "text": [
            "R2 Score / Accuracy Score is  0.6652726301106041\n",
            "Cross validation score is 0.6378414995317774 \n",
            "\n",
            "Mean Squared Error 5502557.669679903\n",
            "Mean Absolute Error 1839.876278480665\n"
          ],
          "name": "stdout"
        }
      ]
    },
    {
      "cell_type": "code",
      "metadata": {
        "colab": {
          "base_uri": "https://localhost:8080/"
        },
        "id": "u9kwW8iSe3Av",
        "outputId": "6d9a0a0c-8266-40d5-b99e-ed298c3d4908"
      },
      "source": [
        "model_2=RandomForestRegressor(bootstrap=True, max_leaf_nodes=4, oob_score=True)\n",
        "model_2.fit(x_train,y_train)\n",
        "pred=model_2.predict(x_test)\n",
        "r2=r2_score(y_test,pred)\n",
        "print(\"R2 Score / Accuracy Score is \",r2)\n",
        "cvv = KFold(n_splits=10, shuffle=True)\n",
        "c=cross_val_score(model_2,x,y,cv=cvv,scoring='r2')\n",
        "print('Cross validation score is',(np.abs(c)).mean(),'\\n')\n",
        "mse=mean_squared_error(y_test,pred)\n",
        "print('Mean Squared Error',mse)\n",
        "mae=mean_absolute_error(y_test,pred)\n",
        "print('Mean Absolute Error',mae)"
      ],
      "execution_count": null,
      "outputs": [
        {
          "output_type": "stream",
          "text": [
            "R2 Score / Accuracy Score is  0.591672489762249\n",
            "Cross validation score is 0.561757047307829 \n",
            "\n",
            "Mean Squared Error 6712464.755847312\n",
            "Mean Absolute Error 2011.142842475336\n"
          ],
          "name": "stdout"
        }
      ]
    },
    {
      "cell_type": "code",
      "metadata": {
        "colab": {
          "base_uri": "https://localhost:8080/"
        },
        "id": "PPBEm-L8fF2-",
        "outputId": "06e1b98d-cb7b-4fda-8cdb-9301728025ec"
      },
      "source": [
        "#final model\n",
        "fin_mod=RandomForestRegressor()\n",
        "fin_mod.fit(x_train,y_train)\n",
        "pred=fin_mod.predict(x_test)\n",
        "r2=r2_score(y_test,pred)\n",
        "print(\"R2 Score / Accuracy Score is \",r2)\n",
        "cvv = KFold(n_splits=10, shuffle=True)\n",
        "c=cross_val_score(fin_mod,x,y,cv=cvv,scoring='r2')\n",
        "print('Cross validation score is',(np.abs(c)).mean(),'\\n')\n",
        "mse=mean_squared_error(y_test,pred)\n",
        "print('Mean Squared Error',mse)\n",
        "mae=mean_absolute_error(y_test,pred)\n",
        "print('Mean Absolute Error',mae)"
      ],
      "execution_count": null,
      "outputs": [
        {
          "output_type": "stream",
          "text": [
            "R2 Score / Accuracy Score is  0.8246451538326635\n",
            "Cross validation score is 0.8058542296955599 \n",
            "\n",
            "Mean Squared Error 2882644.923874764\n",
            "Mean Absolute Error 1110.875109475698\n"
          ],
          "name": "stdout"
        }
      ]
    },
    {
      "cell_type": "markdown",
      "metadata": {
        "id": "lxBeFoedz3st"
      },
      "source": [
        "After hyper parameter we can see that there is no such improvenment So saving the RandomForestRegressor base modle"
      ]
    },
    {
      "cell_type": "markdown",
      "metadata": {
        "id": "8i4YMPyI0Dpx"
      },
      "source": [
        "We have Final modle with **82%** with 2% deviation"
      ]
    },
    {
      "cell_type": "code",
      "metadata": {
        "colab": {
          "base_uri": "https://localhost:8080/"
        },
        "id": "oHT7re2-fNt-",
        "outputId": "a4074e59-cb95-4bc9-ad70-48172edb06d2"
      },
      "source": [
        "#MODEL SAVING\n",
        "import joblib\n",
        "joblib.dump(fin_mod,'FinalModel.pk1')"
      ],
      "execution_count": null,
      "outputs": [
        {
          "output_type": "execute_result",
          "data": {
            "text/plain": [
              "['FinalModel.pk1']"
            ]
          },
          "metadata": {
            "tags": []
          },
          "execution_count": 92
        }
      ]
    },
    {
      "cell_type": "markdown",
      "metadata": {
        "id": "YXa6GhJE0P1P"
      },
      "source": [
        "## Lets predict our test data"
      ]
    },
    {
      "cell_type": "code",
      "metadata": {
        "id": "R0d766mmfNxe"
      },
      "source": [
        "#Predicting the value\n",
        "x_test=dff\n",
        "y_pred=fin_mod.predict(x_test)"
      ],
      "execution_count": null,
      "outputs": []
    },
    {
      "cell_type": "code",
      "metadata": {
        "colab": {
          "base_uri": "https://localhost:8080/"
        },
        "id": "sL6MUZMdfVBl",
        "outputId": "2853ae1b-4dd4-4d71-a50b-f46c58bc06e3"
      },
      "source": [
        "#Displaying the predicted values \n",
        "y_pred"
      ],
      "execution_count": null,
      "outputs": [
        {
          "output_type": "execute_result",
          "data": {
            "text/plain": [
              "array([11193.08      ,  4529.27      , 13197.28916667, ...,\n",
              "       15399.52333333, 12664.55      ,  9321.27      ])"
            ]
          },
          "metadata": {
            "tags": []
          },
          "execution_count": 94
        }
      ]
    },
    {
      "cell_type": "code",
      "metadata": {
        "colab": {
          "base_uri": "https://localhost:8080/",
          "height": 419
        },
        "id": "pkh-WCMvfVEx",
        "outputId": "c14a3539-5cf5-47ce-9a95-cce7558655aa"
      },
      "source": [
        "#Storing the predicted values in dataframe\n",
        "predicted_data=pd.DataFrame({'Predicted_Price':y_pred})\n",
        "predicted_data"
      ],
      "execution_count": null,
      "outputs": [
        {
          "output_type": "execute_result",
          "data": {
            "text/html": [
              "<div>\n",
              "<style scoped>\n",
              "    .dataframe tbody tr th:only-of-type {\n",
              "        vertical-align: middle;\n",
              "    }\n",
              "\n",
              "    .dataframe tbody tr th {\n",
              "        vertical-align: top;\n",
              "    }\n",
              "\n",
              "    .dataframe thead th {\n",
              "        text-align: right;\n",
              "    }\n",
              "</style>\n",
              "<table border=\"1\" class=\"dataframe\">\n",
              "  <thead>\n",
              "    <tr style=\"text-align: right;\">\n",
              "      <th></th>\n",
              "      <th>Predicted_Price</th>\n",
              "    </tr>\n",
              "  </thead>\n",
              "  <tbody>\n",
              "    <tr>\n",
              "      <th>0</th>\n",
              "      <td>11193.080000</td>\n",
              "    </tr>\n",
              "    <tr>\n",
              "      <th>1</th>\n",
              "      <td>4529.270000</td>\n",
              "    </tr>\n",
              "    <tr>\n",
              "      <th>2</th>\n",
              "      <td>13197.289167</td>\n",
              "    </tr>\n",
              "    <tr>\n",
              "      <th>3</th>\n",
              "      <td>10709.828571</td>\n",
              "    </tr>\n",
              "    <tr>\n",
              "      <th>4</th>\n",
              "      <td>4051.180000</td>\n",
              "    </tr>\n",
              "    <tr>\n",
              "      <th>...</th>\n",
              "      <td>...</td>\n",
              "    </tr>\n",
              "    <tr>\n",
              "      <th>2666</th>\n",
              "      <td>8092.490000</td>\n",
              "    </tr>\n",
              "    <tr>\n",
              "      <th>2667</th>\n",
              "      <td>4974.160000</td>\n",
              "    </tr>\n",
              "    <tr>\n",
              "      <th>2668</th>\n",
              "      <td>15399.523333</td>\n",
              "    </tr>\n",
              "    <tr>\n",
              "      <th>2669</th>\n",
              "      <td>12664.550000</td>\n",
              "    </tr>\n",
              "    <tr>\n",
              "      <th>2670</th>\n",
              "      <td>9321.270000</td>\n",
              "    </tr>\n",
              "  </tbody>\n",
              "</table>\n",
              "<p>2671 rows × 1 columns</p>\n",
              "</div>"
            ],
            "text/plain": [
              "      Predicted_Price\n",
              "0        11193.080000\n",
              "1         4529.270000\n",
              "2        13197.289167\n",
              "3        10709.828571\n",
              "4         4051.180000\n",
              "...               ...\n",
              "2666      8092.490000\n",
              "2667      4974.160000\n",
              "2668     15399.523333\n",
              "2669     12664.550000\n",
              "2670      9321.270000\n",
              "\n",
              "[2671 rows x 1 columns]"
            ]
          },
          "metadata": {
            "tags": []
          },
          "execution_count": 95
        }
      ]
    },
    {
      "cell_type": "code",
      "metadata": {
        "id": "813Gjb5QfVG-"
      },
      "source": [
        "#Saving the predicted data frame\n",
        "predicted_data.to_csv(\"Predicted_Price.csv\",index=False)"
      ],
      "execution_count": null,
      "outputs": []
    }
  ]
}